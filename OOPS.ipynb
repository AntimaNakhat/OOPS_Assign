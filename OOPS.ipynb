{
 "cells": [
  {
   "cell_type": "markdown",
   "id": "0739fea6-d8e8-493b-95d2-a57b9bdd31b7",
   "metadata": {},
   "source": [
    "# OOPS Assignment Questions"
   ]
  },
  {
   "cell_type": "markdown",
   "id": "ec30c6fe-8ca9-4182-b2da-4f2408fcee84",
   "metadata": {
    "tags": []
   },
   "source": [
    "## 1. What are the five key concepts of Object-Oriented Programming (OOP)?\n"
   ]
  },
  {
   "cell_type": "raw",
   "id": "9f17f746-0918-4ed1-80ef-544bcaf041ec",
   "metadata": {},
   "source": [
    "Class : A class is a collection of objects. A class contains the blueprints or the prototype from which the objects are being created. It is a logical entity that contains some attributes and methods. \n",
    "\n",
    "- Classes are created by keyword class.\n",
    "- Attributes are the variables that belong to a class.\n",
    "- Public attributes are accessed using the dot (.) operator. Eg.: Myclass.Myattribute\n",
    "\n",
    "class Dog:\n",
    "    pass"
   ]
  },
  {
   "cell_type": "markdown",
   "id": "5b082c8b-986c-4224-a1bb-ab9680f26f36",
   "metadata": {},
   "source": [
    "Object : The object is an entity that has a state and behavior associated with it. It may be any real-world object like a mouse, keyboard, chair, table, pen, etc. Integers, strings, floating-point numbers, even arrays, and dictionaries, are all objects\n",
    "\n",
    "An object consists of:\n",
    "\n",
    "- State: It is represented by the attributes of an object. It also reflects the properties of an object.\n",
    "- Behavior: It is represented by the methods of an object. It also reflects the response of an object to other objects.\n",
    "- Identity: It gives a unique name to an object and enables one object to interact with other objects.\n",
    "\n",
    "To understand the state, behavior, and identity let us take the example of the class dog . \n",
    "\n",
    "- The identity can be considered as the name of the dog.\n",
    "- State or Attributes can be considered as the breed, age, or color of the dog.\n",
    "- The behavior can be considered as to whether the dog is eating or sleeping.\n",
    "\n",
    "Creating an object:\n",
    "\n",
    "obj = Dog() #Dog(Class name)"
   ]
  },
  {
   "cell_type": "markdown",
   "id": "df6659cb-2f3d-4538-bbf6-0a73e1aab466",
   "metadata": {},
   "source": [
    "Inheritance : a new class (child or derived class) inherits properties and behaviours (methods) from an existing class (parent or base class). This promotes code reuse and establishes a hierarchical relationship between classes.\n",
    "\n",
    "Types of Inheritance:\n",
    "\n",
    "1.Single Inheritance: Involves one parent class and one child class.\n",
    "\n",
    " Example: class B(A):\n",
    " \n",
    "2.Multiple Inheritance:Involves a child class inheriting from more than one parent class.\n",
    "\n",
    " Example: class C(A, B):\n",
    " \n",
    "3.Multilevel Inheritance:Involves a class derived from a child class, which is itself derived from another class.\n",
    "\n",
    " Example: class C(B) where B is derived from A.\n",
    " \n",
    "4.Hierarchical Inheritance: Multiple child classes inherit from a single parent class.\n",
    "\n",
    " Example: class B(A), class C(A):\n",
    " \n",
    "5.Hybrid Inheritance: Combines two or more types of inheritance (e.g., multiple and multilevel).\n",
    "\n",
    " Example: class D(B, C) where B and C inherit from A\n"
   ]
  },
  {
   "cell_type": "raw",
   "id": "fe69715a-42df-486e-8338-46d7c49d1a44",
   "metadata": {},
   "source": [
    "Polymorphism allows objects of different classes to be treated as instances of the same class through a common interface, enabling different classes to respond to the same method call.\n",
    "\n",
    "class Dog:\n",
    "    def speak(self):\n",
    "        return \"Woof!\"\n",
    "\n",
    "class Cat:\n",
    "    def speak(self):\n",
    "        return \"Meow!\"\n",
    "\n",
    "animals = [Dog(), Cat()]\n",
    "for animal in animals:\n",
    "    print(animal.speak())\n"
   ]
  },
  {
   "cell_type": "raw",
   "id": "e53cd671-fccb-42e4-80a8-dfc989fc7be1",
   "metadata": {},
   "source": [
    "Encapsulation : It involves wrapping data (attributes) and methods (functions) within a class, restricting access to them. This ensures controlled interaction with an object's data, promoting data integrity. For example, private variables (with __) can only be accessed within the class\n",
    "\n",
    "class Student:\n",
    "    def __init__(self, name, age):\n",
    "        self.name = name\n",
    "        self.__age = age  # Private variable\n",
    "\n",
    "    def get_age(self):\n",
    "        return self.__age\n",
    "\n",
    "student = Student(\"Antima\", 22)\n",
    "print(student.name)   # Accessible\n",
    "print(student.get_age())  # Accessible via method\n"
   ]
  },
  {
   "cell_type": "markdown",
   "id": "0722251f-4d54-4e57-88c6-2824817cb3ad",
   "metadata": {},
   "source": [
    "## 2. Write a Python class for a `Car` with attributes for `make`, `model`, and `year`. Include a method to display the car's information."
   ]
  },
  {
   "cell_type": "code",
   "execution_count": 4,
   "id": "28e315c7-2fa3-4a59-a94d-2e20ec6d9d03",
   "metadata": {},
   "outputs": [],
   "source": [
    "class Car:\n",
    "    def __init__(self,make,model,year):\n",
    "        self.make = make\n",
    "        self.model = model\n",
    "        self.year = year\n",
    "    \n",
    "    def display(self):\n",
    "        print(f\"Car Information: {self.make},{self.model},{self.year}\")\n",
    "        "
   ]
  },
  {
   "cell_type": "code",
   "execution_count": 5,
   "id": "41add123-03b3-4c74-91f7-ff89cc42800c",
   "metadata": {},
   "outputs": [],
   "source": [
    "c1 = Car(\"Toyota\", \"Corolla\", 2020)"
   ]
  },
  {
   "cell_type": "code",
   "execution_count": 7,
   "id": "2546173e-bbb6-4706-8727-a468b4b4a083",
   "metadata": {},
   "outputs": [
    {
     "name": "stdout",
     "output_type": "stream",
     "text": [
      "Car Information: Toyota,Corolla,2020\n"
     ]
    }
   ],
   "source": [
    "c1.display()"
   ]
  },
  {
   "cell_type": "markdown",
   "id": "4fd10665-ad59-41fc-9e40-273bf3b31768",
   "metadata": {},
   "source": [
    "## 3. Explain the difference between instance methods and class methods. Provide an example of each.\n"
   ]
  },
  {
   "cell_type": "markdown",
   "id": "ae67f169-539e-4422-90a7-c66669227c50",
   "metadata": {},
   "source": [
    "Instance methods are the most common type of methods in Python classes. They are associated with instances of a class and operate on the instance’s data. When defining an instance method, the method’s first parameter is typically named self, which refers to the instance calling the method. This allows the method to access and manipulate the instance’s attributes."
   ]
  },
  {
   "cell_type": "code",
   "execution_count": 11,
   "id": "e71f0423-f61c-4ce9-b123-5f86af84de09",
   "metadata": {},
   "outputs": [
    {
     "name": "stdout",
     "output_type": "stream",
     "text": [
      "Hi, I'm Kishan and I'm 20 years old.\n"
     ]
    }
   ],
   "source": [
    "class Person:\n",
    "    def __init__(self, name, age):\n",
    "        self.name = name\n",
    "        self.age = age\n",
    "\n",
    "    def introduce(self):\n",
    "        return f\"Hi, I'm {self.name} and I'm {self.age} years old.\"\n",
    "\n",
    "\n",
    "# Creating an instance of the class\n",
    "person1 = Person(\"Kishan\", 20)\n",
    "\n",
    "# Calling the instance method\n",
    "print(person1.introduce())  "
   ]
  },
  {
   "cell_type": "markdown",
   "id": "ff859bee-4797-4b2b-86fe-cf7283200bf1",
   "metadata": {},
   "source": [
    "In this example, the Person class defines an instance method introduce which returns a formatted introduction based on the instance’s name and age attributes. The instance person1 is created with the name “Kishan” and age 20, and invoking the introduce method prints a personalized introduction for that instance"
   ]
  },
  {
   "cell_type": "markdown",
   "id": "43b72dee-5e05-404e-888f-d13a2874b55a",
   "metadata": {},
   "source": [
    "Class methods are associated with the class rather than instances. They are defined using the @classmethod decorator and take the class itself as the first parameter, usually named cls. Class methods are useful for tasks that involve the class rather than the instance, such as creating class-specific behaviors or modifying class-level attributes."
   ]
  },
  {
   "cell_type": "code",
   "execution_count": 10,
   "id": "2317d107-3f62-4687-80af-b7a886799f05",
   "metadata": {},
   "outputs": [
    {
     "name": "stdout",
     "output_type": "stream",
     "text": [
      "3\n",
      "10\n"
     ]
    }
   ],
   "source": [
    "class MyClass:\n",
    "    class_variable = 0\n",
    "\n",
    "    def __init__(self, value):\n",
    "        self.instance_variable = value\n",
    "\n",
    "    @classmethod\n",
    "    def class_method(cls, x):\n",
    "        cls.class_variable += x\n",
    "        return cls.class_variable\n",
    "\n",
    "# Creating instances of the class\n",
    "obj1 = MyClass(5)\n",
    "obj2 = MyClass(10)\n",
    "\n",
    "# Calling the class method\n",
    "print(MyClass.class_method(3))  \n",
    "print(MyClass.class_method(7))  "
   ]
  },
  {
   "cell_type": "markdown",
   "id": "7ff30c88-0458-4926-b768-e69a42bc3824",
   "metadata": {},
   "source": [
    "In this example, the MyClass defines a class variable class_variable, and the class_method is a class method that increments this variable. When calling the method with different values, it updates and returns the modified class variable. Instances obj1 and obj2 have their own instance_variable."
   ]
  },
  {
   "cell_type": "markdown",
   "id": "ed48fa33-2fae-4507-b437-711d987f5359",
   "metadata": {},
   "source": [
    "## 4. How does Python implement method overloading? Give an example.\n"
   ]
  },
  {
   "cell_type": "markdown",
   "id": "d6a00b26-46e0-4444-9f0d-591cae21040a",
   "metadata": {},
   "source": [
    "Two or more methods have the same name but different numbers of parameters or different types of parameters, or both. \n",
    "\n",
    "Like other languages (for example, method overloading in C++) do, python does not support method overloading by default. \n",
    "\n",
    "The problem with method overloading in Python is that we may overload the methods but can only use the latest defined method"
   ]
  },
  {
   "cell_type": "code",
   "execution_count": 8,
   "id": "a4edfbef-d86c-4713-966a-d2ef52ded57a",
   "metadata": {},
   "outputs": [],
   "source": [
    "def product(a, b):\n",
    "    p = a * b\n",
    "    print(p)\n",
    "    \n",
    "def product(a, b, c):\n",
    "    p = a * b*c\n",
    "    print(p)\n"
   ]
  },
  {
   "cell_type": "code",
   "execution_count": 10,
   "id": "3c0986d4-687b-48ed-8247-e425a52f406e",
   "metadata": {},
   "outputs": [
    {
     "name": "stdout",
     "output_type": "stream",
     "text": [
      "1470\n"
     ]
    }
   ],
   "source": [
    "product(14,5,21)"
   ]
  },
  {
   "cell_type": "markdown",
   "id": "26dea9f2-f370-4cc9-a66d-1db506c641e8",
   "metadata": {},
   "source": [
    "## 5. What are the three types of access modifiers in Python? How are they denoted?\n"
   ]
  },
  {
   "cell_type": "markdown",
   "id": "2dcaaa68-ce1f-4cbb-af1a-c9ec6a2315b2",
   "metadata": {},
   "source": [
    "Public Access Modifier: The members of a class that are declared public are easily accessible from any part of the program. All data members and member functions of a class are public by default. "
   ]
  },
  {
   "cell_type": "code",
   "execution_count": 2,
   "id": "cde4ec28-34ba-4ee6-9e55-0f27c3f5604f",
   "metadata": {},
   "outputs": [
    {
     "name": "stdout",
     "output_type": "stream",
     "text": [
      "Name:  Raj\n",
      "Age:  20\n"
     ]
    }
   ],
   "source": [
    "class Emp:\n",
    "\n",
    "    # constructor\n",
    "    def __init__(self, name, age):\n",
    "\n",
    "        # public data members\n",
    "        self.name = name\n",
    "        self.age = age\n",
    "\n",
    "    # public member function\n",
    "    def displayAge(self):\n",
    "\n",
    "        # accessing public data member\n",
    "        print(\"Age: \", self.age)\n",
    "\n",
    "\n",
    "# creating object of the class\n",
    "obj = Emp(\"Raj\", 20)\n",
    "\n",
    "# accessing public data member\n",
    "print(\"Name: \", obj.name)\n",
    "\n",
    "# calling public member function of the class\n",
    "obj.displayAge()"
   ]
  },
  {
   "cell_type": "markdown",
   "id": "df8722b5-f1e2-4673-b1d7-00eaa1670183",
   "metadata": {},
   "source": [
    "Protected Access Modifier: The members of a class that are declared protected are only accessible to a class derived from it. Data members of a class are declared protected by adding a single underscore ‘_’ symbol before the data member of that class."
   ]
  },
  {
   "cell_type": "code",
   "execution_count": 5,
   "id": "95236cf2-3ba9-4b2b-b1cd-dedc2b1e6ca1",
   "metadata": {},
   "outputs": [
    {
     "name": "stdout",
     "output_type": "stream",
     "text": [
      "Name:  Raj\n",
      "Roll:  1706256\n",
      "Branch:  Information Technology\n"
     ]
    }
   ],
   "source": [
    "class Student:\n",
    "\n",
    "    # protected data members\n",
    "    _name = None\n",
    "    _roll = None\n",
    "    _branch = None\n",
    "\n",
    "    # constructor\n",
    "    def __init__(self, name, roll, branch):\n",
    "        self._name = name\n",
    "        self._roll = roll\n",
    "        self._branch = branch\n",
    "\n",
    "    # protected member function\n",
    "    def _displayRollAndBranch(self):\n",
    "\n",
    "        # accessing protected data members\n",
    "        print(\"Roll: \", self._roll)\n",
    "        print(\"Branch: \", self._branch)\n",
    "\n",
    "\n",
    "# derived class\n",
    "class Child(Student):\n",
    "\n",
    "    # constructor\n",
    "    def __init__(self, name, roll, branch):\n",
    "        Student.__init__(self, name, roll, branch)\n",
    "\n",
    "    # public member function\n",
    "    def displayDetails(self):\n",
    "\n",
    "              # accessing protected data members of super class\n",
    "        print(\"Name: \", self._name)\n",
    "\n",
    "        # accessing protected member functions of super class\n",
    "        self._displayRollAndBranch()\n",
    "\n",
    "\n",
    "# creating objects of the derived class\n",
    "obj = Child(\"Raj\", 1706256, \"Information Technology\")\n",
    "\n",
    "# calling public member functions of the class\n",
    "obj.displayDetails()"
   ]
  },
  {
   "cell_type": "markdown",
   "id": "24ae1403-402d-4818-93ec-2825e99f5d51",
   "metadata": {},
   "source": [
    "Private Access Modifier: The members of a class that are declared private are accessible within the class only, private access modifier is the most secure access modifier. Data members of a class are declared private by adding a double underscore ‘__’ symbol before the data member of that class."
   ]
  },
  {
   "cell_type": "code",
   "execution_count": 6,
   "id": "ee941b46-e787-45dd-bfeb-c2022dfe2173",
   "metadata": {},
   "outputs": [
    {
     "name": "stdout",
     "output_type": "stream",
     "text": [
      "Name:  Raj\n",
      "Roll:  1706256\n",
      "Branch:  Information Technology\n"
     ]
    }
   ],
   "source": [
    "class Pare:\n",
    "\n",
    "    # private members\n",
    "    __name = None\n",
    "    __roll = None\n",
    "    __branch = None\n",
    "\n",
    "    # constructor\n",
    "    def __init__(self, name, roll, branch):\n",
    "        self.__name = name\n",
    "        self.__roll = roll\n",
    "        self.__branch = branch\n",
    "\n",
    "    # private member function\n",
    "    def __displayDetails(self):\n",
    "\n",
    "        # accessing private data members\n",
    "        print(\"Name: \", self.__name)\n",
    "        print(\"Roll: \", self.__roll)\n",
    "        print(\"Branch: \", self.__branch)\n",
    "\n",
    "    # public member function\n",
    "    def accessPrivateFunction(self):\n",
    "\n",
    "        # accessing private member function\n",
    "        self.__displayDetails()\n",
    "\n",
    "\n",
    "# creating object\n",
    "obj = Pare(\"Raj\", 1706256, \"Information Technology\")\n",
    "\n",
    "# calling public member function of the class\n",
    "obj.accessPrivateFunction()"
   ]
  },
  {
   "cell_type": "markdown",
   "id": "e1dba014-ae7e-4098-b18f-2dabcfd5b67b",
   "metadata": {},
   "source": [
    "## 6. Describe the five types of inheritance in Python. Provide a simple example of multiple inheritance.\n"
   ]
  },
  {
   "cell_type": "markdown",
   "id": "21ea564d-a562-4e0d-bc56-545de83b55ff",
   "metadata": {},
   "source": [
    "Inheritance : a new class (child or derived class) inherits properties and behaviours (methods) from an existing class (parent or base class). This promotes code reuse and establishes a hierarchical relationship between classes.\n",
    "\n",
    "Types of Inheritance:\n",
    "\n",
    "1.Single Inheritance: Involves one parent class and one child class.\n",
    "\n",
    "Example: class B(A):\n",
    "\n",
    "2.Multiple Inheritance:Involves a child class inheriting from more than one parent class.\n",
    "\n",
    "Example: class C(A, B):\n",
    "\n",
    "3.Multilevel Inheritance:Involves a class derived from a child class, which is itself derived from another class.\n",
    "\n",
    "Example: class C(B) where B is derived from A.\n",
    "\n",
    "4.Hierarchical Inheritance: Multiple child classes inherit from a single parent class.\n",
    "\n",
    "Example: class B(A), class C(A):\n",
    "\n",
    "5.Hybrid Inheritance: Combines two or more types of inheritance (e.g., multiple and multilevel).\n",
    "\n",
    "Example: class D(B, C) where B and C inherit from A"
   ]
  },
  {
   "cell_type": "code",
   "execution_count": 8,
   "id": "76c56ce0-0ca0-4e02-9979-367633e0be4a",
   "metadata": {},
   "outputs": [],
   "source": [
    "class ParentClass1:\n",
    "    def method_1(self):\n",
    "        print(\"This is method 1 from ParentClass1\")\n",
    "\n",
    "class ParentClass2:\n",
    "    def method_2(self):\n",
    "        print(\"This is method 2 from ParentClass2\")\n",
    "\n",
    "class ChildClass(ParentClass1, ParentClass2):\n",
    "    def method_child(self):\n",
    "        print(\"This is the method from ChildClass\")\n"
   ]
  },
  {
   "cell_type": "code",
   "execution_count": 10,
   "id": "d564959f-64e4-4581-917e-40fe37c3483e",
   "metadata": {},
   "outputs": [],
   "source": [
    "# Creating an object of ChildClass\n",
    "child = ChildClass()"
   ]
  },
  {
   "cell_type": "code",
   "execution_count": 11,
   "id": "3aa0ef0d-246e-4430-8b88-a9b0a4117b53",
   "metadata": {},
   "outputs": [
    {
     "name": "stdout",
     "output_type": "stream",
     "text": [
      "This is method 1 from ParentClass1\n",
      "This is method 2 from ParentClass2\n"
     ]
    }
   ],
   "source": [
    "# Calling methods from both parent classes\n",
    "child.method_1()    \n",
    "child.method_2()   "
   ]
  },
  {
   "cell_type": "code",
   "execution_count": 12,
   "id": "dfc28376-f7d9-4752-a012-cdc1eb3001e5",
   "metadata": {},
   "outputs": [
    {
     "name": "stdout",
     "output_type": "stream",
     "text": [
      "This is the method from ChildClass\n"
     ]
    }
   ],
   "source": [
    "# Calling the method from the child class\n",
    "child.method_child()  "
   ]
  },
  {
   "cell_type": "markdown",
   "id": "06ff93b5-ee29-4f15-a88c-1e23e4f1c4dc",
   "metadata": {},
   "source": [
    "## 7. What is the Method Resolution Order (MRO) in Python? How can you retrieve it programmatically?\n"
   ]
  },
  {
   "cell_type": "markdown",
   "id": "ab13a02f-4137-4227-b2bb-04262bcd8f91",
   "metadata": {},
   "source": [
    "In python, method resolution order defines the order in which the base classes are searched when executing a method. First, the method or attribute is searched within a class and then it follows the order we specified while inheriting. This order is also called Linearization of a class and set of rules are called MRO(Method Resolution Order). While inheriting from another class, the interpreter needs a way to resolve the methods that are being called via an instance. Thus we need the method resolution order.\n",
    "\n",
    "In multiple inheritances, the methods are executed based on the order specified while inheriting the classes"
   ]
  },
  {
   "cell_type": "code",
   "execution_count": 4,
   "id": "0d3437ae-4ae2-401e-892f-3b971e60a723",
   "metadata": {},
   "outputs": [],
   "source": [
    "class A:\n",
    "    def method(self):\n",
    "        print(\"method of class A\")\n",
    "class B(A):\n",
    "    def method(self):\n",
    "        print(\"method of class B\")\n",
    "class C(A):\n",
    "    def method(self):\n",
    "        print(\"method of class C\")\n",
    "class D(B,C):\n",
    "    pass\n",
    "    "
   ]
  },
  {
   "cell_type": "code",
   "execution_count": 5,
   "id": "98f222cf-f055-47f6-93e1-a629875ba243",
   "metadata": {},
   "outputs": [
    {
     "name": "stdout",
     "output_type": "stream",
     "text": [
      "method of class B\n"
     ]
    }
   ],
   "source": [
    "d = D()\n",
    "d.method()"
   ]
  },
  {
   "cell_type": "markdown",
   "id": "fd2f3721-f498-4535-8901-ce10de968e51",
   "metadata": {},
   "source": [
    "In the above example we use multiple inheritances and it is also called Diamond inheritance.\n",
    "\n",
    "Python follows a depth-first lookup order and hence ends up calling the method from class A. By following the method resolution order, the lookup order as follows. \n",
    "Class D -> Class B -> Class C -> Class A \n",
    "Python follows depth-first order to resolve the methods and attributes. So in the above example, it executes the method in class B. "
   ]
  },
  {
   "cell_type": "raw",
   "id": "84208d92-9e4c-4bfd-bd07-81da1f3caa2e",
   "metadata": {},
   "source": [
    "C3 Linearization Algorithm : \n",
    "C3 Linearization algorithm is an algorithm that uses new-style classes. It is used to remove an inconsistency created by DLR Algorithm. It has certain limitation they are: \n",
    " \n",
    "\n",
    "Children precede their parents\n",
    "If a class inherits from multiple classes, they are kept in the order specified in the tuple of the base class.\n",
    "\n",
    "C3 Linearization Algorithm works on three rules: \n",
    " \n",
    "\n",
    "Inheritance graph determines the structure of method resolution order.\n",
    "User have to visit the super class only after the method of the local classes are visited.\n",
    "Monotonicity"
   ]
  },
  {
   "cell_type": "markdown",
   "id": "0aa71482-4f2c-40eb-b371-59beab560e21",
   "metadata": {},
   "source": [
    "Methods for Method Resolution Order(MRO) of a class: \n",
    "To get the method resolution order of a class we can use either __mro__ attribute or mro() method. By using these methods we can display the order in which methods are resolved. For Example"
   ]
  },
  {
   "cell_type": "code",
   "execution_count": 6,
   "id": "ef8d30d5-0b10-42da-b055-f792c5d0b5c7",
   "metadata": {},
   "outputs": [
    {
     "name": "stdout",
     "output_type": "stream",
     "text": [
      "Constructor C\n",
      "(<class '__main__.C'>, <class '__main__.A'>, <class '__main__.B'>, <class 'object'>)\n",
      "[<class '__main__.C'>, <class '__main__.A'>, <class '__main__.B'>, <class 'object'>]\n"
     ]
    }
   ],
   "source": [
    "class A:\n",
    "    def rk(self):\n",
    "        print(\"In class A\")\n",
    "\n",
    "class B:\n",
    "    def rk(self):\n",
    "        print(\"In class B\")\n",
    "\n",
    "# classes ordering\n",
    "class C(A, B):\n",
    "    def __init__(self):\n",
    "        print(\"Constructor C\")\n",
    "\n",
    "# Creating an instance of class C\n",
    "r = C()\n",
    "\n",
    "# it prints the lookup order \n",
    "print(C.__mro__)  # Using the __mro__ attribute\n",
    "print(C.mro())    # Using the mro() method\n"
   ]
  },
  {
   "cell_type": "markdown",
   "id": "f453f43e-3828-4bdd-b13f-6dc0b09cda10",
   "metadata": {},
   "source": [
    "## 8. Create an abstract base class `Shape` with an abstract method `area()`. Then create two subclasses `Circle` and `Rectangle` that implement the `area()` method."
   ]
  },
  {
   "cell_type": "code",
   "execution_count": 17,
   "id": "84285903-65f6-47b2-8d86-a0b4f558495d",
   "metadata": {},
   "outputs": [],
   "source": [
    "import abc"
   ]
  },
  {
   "cell_type": "code",
   "execution_count": 18,
   "id": "a709b64c-19ad-42d2-8465-c03112e31783",
   "metadata": {},
   "outputs": [],
   "source": [
    "class Shape():\n",
    "    @abc.abstractmethod\n",
    "    def area(self):\n",
    "        pass"
   ]
  },
  {
   "cell_type": "code",
   "execution_count": 19,
   "id": "3b79f990-2981-4687-b6ca-2d57703f0bc3",
   "metadata": {},
   "outputs": [],
   "source": [
    "class Circle(Shape):\n",
    "    def __init__(self,r):\n",
    "        self.r = r\n",
    "    \n",
    "    def area(self):\n",
    "        return 3.14*self.r*self.r"
   ]
  },
  {
   "cell_type": "code",
   "execution_count": 22,
   "id": "f95ba6eb-f67b-4e45-a2fd-bf211b1ede53",
   "metadata": {},
   "outputs": [],
   "source": [
    "class Rectangle(Shape):\n",
    "    def __init__(self,l,b):\n",
    "        self.l = l\n",
    "        self.b = b\n",
    "        \n",
    "    def area(self):\n",
    "        return self.l*self.b"
   ]
  },
  {
   "cell_type": "code",
   "execution_count": 20,
   "id": "89faa3c9-e456-40fa-b0f1-b48a574eb2b6",
   "metadata": {},
   "outputs": [
    {
     "name": "stdout",
     "output_type": "stream",
     "text": [
      "area of circle :379.94\n"
     ]
    }
   ],
   "source": [
    "c = Circle(11)\n",
    "print(f\"area of circle :{c.area()}\")"
   ]
  },
  {
   "cell_type": "code",
   "execution_count": 23,
   "id": "d3e0c892-fc68-4b12-8b18-e75500293658",
   "metadata": {},
   "outputs": [
    {
     "name": "stdout",
     "output_type": "stream",
     "text": [
      "area of circle :242\n"
     ]
    }
   ],
   "source": [
    "r = Rectangle(11,22)\n",
    "print(f\"area of circle :{r.area()}\")"
   ]
  },
  {
   "cell_type": "markdown",
   "id": "a6c082d5-87b1-46d1-a495-a1badcb52759",
   "metadata": {},
   "source": [
    "## 9. Demonstrate polymorphism by creating a function that can work with different shape objects to calculate and print their areas"
   ]
  },
  {
   "cell_type": "code",
   "execution_count": 7,
   "id": "993df33c-4e7d-4070-b3fd-148f21578bf4",
   "metadata": {},
   "outputs": [
    {
     "name": "stdout",
     "output_type": "stream",
     "text": [
      "The area is: 78.5\n",
      "The area is: 70\n",
      "The area is: 35.0\n"
     ]
    }
   ],
   "source": [
    "class Shape:\n",
    "    def area(self):\n",
    "        pass\n",
    "\n",
    "class Circle(Shape):\n",
    "    def __init__(self, radius):\n",
    "        self.radius = radius\n",
    "    \n",
    "    def area(self):\n",
    "        return 3.14 * self.radius * self.radius\n",
    "\n",
    "class Rectangle(Shape):\n",
    "    def __init__(self, length, width):\n",
    "        self.length = length\n",
    "        self.width = width\n",
    "    \n",
    "    def area(self):\n",
    "        return self.length * self.width\n",
    "\n",
    "class Triangle(Shape):\n",
    "    def __init__(self, base, height):\n",
    "        self.base = base\n",
    "        self.height = height\n",
    "    \n",
    "    def area(self):\n",
    "        return 0.5 * self.base * self.height\n",
    "\n",
    "# Polymorphic function\n",
    "def print_area(shape):\n",
    "    print(f\"The area is: {shape.area()}\")\n",
    "\n",
    "circle = Circle(5)\n",
    "rectangle = Rectangle(14, 5)\n",
    "triangle = Triangle(5, 14)\n",
    "\n",
    "# Using the polymorphic function\n",
    "print_area(circle)      \n",
    "print_area(rectangle)  \n",
    "print_area(triangle)    \n"
   ]
  },
  {
   "cell_type": "markdown",
   "id": "08ecc3d0-b1fe-4c2d-b17f-9251c0028e57",
   "metadata": {},
   "source": [
    "## 10. Implement encapsulation in a `BankAccount` class with private attributes for `balance` and 'account_number`. Include methods for deposit, withdrawal, and balance inquiry."
   ]
  },
  {
   "cell_type": "code",
   "execution_count": 12,
   "id": "62cfbda6-61eb-4e22-9602-6682da6e62bb",
   "metadata": {},
   "outputs": [
    {
     "name": "stdout",
     "output_type": "stream",
     "text": [
      "Deposited: 500\n",
      "Withdrew: 200\n",
      "Account Number: 123456789\n",
      "Current Balance: 963447\n",
      "Balance: 963447\n",
      "Account Number: 123456789\n"
     ]
    }
   ],
   "source": [
    "class BankAccount:\n",
    "    def __init__(self, balance, acc_no):\n",
    "        self.__balance = balance  \n",
    "        self.__acc_no = acc_no    \n",
    "\n",
    "    def deposit(self, amount):\n",
    "        if amount > 0:\n",
    "            self.__balance += amount\n",
    "            print(f\"Deposited: {amount}\")\n",
    "        else:\n",
    "            print(\"Deposit amount must be positive.\")\n",
    "\n",
    "    def withdraw(self, amount):\n",
    "        if amount > 0:\n",
    "            if amount <= self.__balance:\n",
    "                self.__balance -= amount\n",
    "                print(f\"Withdrew: {amount}\")\n",
    "            else:\n",
    "                print(\"Insufficient funds.\")\n",
    "        else:\n",
    "            print(\"Withdrawal amount must be positive.\")\n",
    "\n",
    "    def get_balance(self):\n",
    "        return self.__balance\n",
    "\n",
    "    def get_account_number(self):\n",
    "        return self.__acc_no\n",
    "\n",
    "    def bal_inquiry(self):\n",
    "        print(f\"Account Number: {self.__acc_no}\")\n",
    "        print(f\"Current Balance: {self.__balance}\")\n",
    "\n",
    "# Example\n",
    "account = BankAccount(963147, '123456789')\n",
    "\n",
    "\n",
    "account.deposit(500)\n",
    "account.withdraw(200)\n",
    "account.bal_inquiry()\n",
    "\n",
    "\n",
    "print(f\"Balance: {account.get_balance()}\")\n",
    "\n",
    "print(f\"Account Number: {account.get_account_number()}\")\n"
   ]
  },
  {
   "cell_type": "markdown",
   "id": "0bf87c01-2251-4083-8b30-6930237e398e",
   "metadata": {},
   "source": [
    "## 11. Write a class that overrides the `__str__` and `__add__` magic methods. What will these methods allow you to do?"
   ]
  },
  {
   "cell_type": "code",
   "execution_count": 9,
   "id": "82594c08-5162-42ce-a99e-0d0dc0176566",
   "metadata": {},
   "outputs": [
    {
     "name": "stdout",
     "output_type": "stream",
     "text": [
      "Vector(1, 2)\n",
      "Vector(3, 4)\n",
      "Vector(4, 6)\n"
     ]
    }
   ],
   "source": [
    "class Vector:\n",
    "    def __init__(self, x, y):\n",
    "        self.x = x\n",
    "        self.y = y\n",
    "\n",
    "    def __str__(self):\n",
    "        # Provide a custom string representation of the Vector object\n",
    "        return f\"Vector({self.x}, {self.y})\"\n",
    "\n",
    "    def __add__(self, other):\n",
    "        # Overload the + operator to add two Vector objects\n",
    "        try:\n",
    "            # Attempt to add the x and y components\n",
    "            return Vector(self.x + other.x, self.y + other.y)\n",
    "        except AttributeError:\n",
    "            # Return NotImplemented if the other object is not a Vector\n",
    "            return NotImplemented\n",
    "\n",
    "# Example \n",
    "v1 = Vector(1, 2)\n",
    "v2 = Vector(3, 4)\n",
    "\n",
    "# Using __str__ to get a string representation\n",
    "print(v1)  \n",
    "print(v2)  \n",
    "\n",
    "# Using __add__ to add two Vector objects\n",
    "v3 = v1 + v2\n",
    "print(v3)  \n"
   ]
  },
  {
   "cell_type": "markdown",
   "id": "3575e6a8-b357-4d30-8224-c1179c86fe9a",
   "metadata": {},
   "source": [
    "## 12. Create a decorator that measures and prints the execution time of a function.\n"
   ]
  },
  {
   "cell_type": "code",
   "execution_count": 8,
   "id": "73e369f8-42bd-4ccb-8e3c-87d60ccda220",
   "metadata": {},
   "outputs": [
    {
     "name": "stdout",
     "output_type": "stream",
     "text": [
      "Execution time of example_function: 0.068559 seconds\n",
      "Result: 499999500000\n"
     ]
    }
   ],
   "source": [
    "import time\n",
    "\n",
    "def execution_time_decorator(func):\n",
    "    def wrapper(*args, **kwargs):\n",
    "        start_time = time.time()  \n",
    "        result = func(*args, **kwargs)  \n",
    "        end_time = time.time()  \n",
    "        execution_time = end_time - start_time  \n",
    "        print(f\"Execution time of {func.__name__}: {execution_time:.6f} seconds\")\n",
    "        return result  \n",
    "    return wrapper\n",
    "\n",
    "# Example \n",
    "@execution_time_decorator\n",
    "def example_function(n):\n",
    "    total = 0\n",
    "    for i in range(n):\n",
    "        total += i\n",
    "    return total\n",
    "\n",
    "# Call the decorated function\n",
    "result = example_function(1000000)\n",
    "print(f\"Result: {result}\")\n"
   ]
  },
  {
   "cell_type": "markdown",
   "id": "6c0a1deb-9a3e-4b50-b9a1-ecdd8767efdf",
   "metadata": {},
   "source": [
    "## 13. Explain the concept of the Diamond Problem in multiple inheritance. How does Python resolve it?\n"
   ]
  },
  {
   "cell_type": "code",
   "execution_count": 24,
   "id": "e4574174-54f3-4fcb-a8ad-7222d9d8c410",
   "metadata": {},
   "outputs": [],
   "source": [
    "\"\"\" diamond problem >> it occurs when a class inherits from 2 or more than 2 \n",
    "class >> will lead to ambiguity in execution of methods\n",
    "\n",
    "to remove diamond problem >> python uses method resolution order(MRO) \n",
    "algorithm called c3 linerization\n",
    "\n",
    "meaning that the class i.e. inherited firt in the derive class, that method\n",
    "will be called in this case method 1\"\"\"\n",
    "\n",
    "class ParentClass1:\n",
    "    def method_par(self):\n",
    "        print(\"method 1 of parent class 1\")\n",
    "class ParentClass2:\n",
    "    def method_par(self):\n",
    "        print(\"method 2 of parent class 2\")\n",
    "class ChildClass(ParentClass1,ParentClass2):\n",
    "    def method(self):\n",
    "        print(\"method of child class\")"
   ]
  },
  {
   "cell_type": "code",
   "execution_count": 25,
   "id": "1333c709-d81c-4245-9ecd-0aafab996f63",
   "metadata": {},
   "outputs": [
    {
     "name": "stdout",
     "output_type": "stream",
     "text": [
      "method 1 of parent class 1\n"
     ]
    }
   ],
   "source": [
    "c2 = ChildClass()\n",
    "c2.method_par()"
   ]
  },
  {
   "cell_type": "markdown",
   "id": "495aa0ed-e177-4b41-8860-fa0ceb3ebc84",
   "metadata": {},
   "source": [
    "## 14. Write a class method that keeps track of the number of instances created from a class"
   ]
  },
  {
   "cell_type": "code",
   "execution_count": 5,
   "id": "ca2ed943-02a7-4f55-80a0-a983da0fbcea",
   "metadata": {},
   "outputs": [
    {
     "name": "stdout",
     "output_type": "stream",
     "text": [
      "3\n"
     ]
    }
   ],
   "source": [
    "class Method: \n",
    "\t\n",
    "\t# this is used to print the number \n",
    "\t# of instances of a class \n",
    "\tcount = 0\n",
    "\n",
    "\t# constructor of class \n",
    "\tdef __init__(self): \n",
    "\t\t\n",
    "\t\t# increment \n",
    "\t\tMethod.count += 1\n",
    "\n",
    "\n",
    "# object or instance of class \n",
    "m1 = Method() \n",
    "m2 = Method() \n",
    "m3 = Method() \n",
    "print(Method.count) \n"
   ]
  },
  {
   "cell_type": "markdown",
   "id": "774bba44-e1e8-413c-9246-1be1c83acbf6",
   "metadata": {},
   "source": [
    "## 15. Implement a static method in a class that checks if a given year is a leap year.\n"
   ]
  },
  {
   "cell_type": "code",
   "execution_count": 3,
   "id": "e6c884a4-e644-4d2d-9f0f-377d09b3cacf",
   "metadata": {},
   "outputs": [],
   "source": [
    "class Year:\n",
    "    \n",
    "    @staticmethod\n",
    "    def leap(y):\n",
    "        if (y % 4 == 0 and y % 100 != 0)or y % 400 == 0:\n",
    "            print(f\"{y} is leap year\")\n",
    "        else:\n",
    "            print(f\"{y} not leap year\")\n",
    "        \n",
    "    "
   ]
  },
  {
   "cell_type": "code",
   "execution_count": 4,
   "id": "1772d39b-88a0-42ae-9332-36f2ea2f3dcd",
   "metadata": {},
   "outputs": [
    {
     "name": "stdout",
     "output_type": "stream",
     "text": [
      "2024 is leap year\n",
      "2001 not leap year\n"
     ]
    }
   ],
   "source": [
    "Year.leap(2024)  \n",
    "Year.leap(2001)"
   ]
  }
 ],
 "metadata": {
  "kernelspec": {
   "display_name": "Python 3 (ipykernel)",
   "language": "python",
   "name": "python3"
  },
  "language_info": {
   "codemirror_mode": {
    "name": "ipython",
    "version": 3
   },
   "file_extension": ".py",
   "mimetype": "text/x-python",
   "name": "python",
   "nbconvert_exporter": "python",
   "pygments_lexer": "ipython3",
   "version": "3.10.8"
  }
 },
 "nbformat": 4,
 "nbformat_minor": 5
}
